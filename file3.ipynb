{
 "cells": [
  {
   "cell_type": "code",
   "execution_count": null,
   "id": "8c0c60fd",
   "metadata": {},
   "outputs": [
    {
     "data": {
      "text/plain": [
       "'pip install transformers --upgrade\\npip install scipy\\npip install diffusers # noising and denoising \\npip install safetensors\\npip install opencv-python\\npip install controlnet-aux\\npip install torch torchvision torchaudio --index-url https://download.pytorch.org/whl/cu18\\n'"
      ]
     },
     "execution_count": 2,
     "metadata": {},
     "output_type": "execute_result"
    }
   ],
   "source": [
    "\"\"\"pip install transformers --upgrade\n",
    "pip install scipy\n",
    "pip install diffusers # noising and denoising \n",
    "pip install safetensors\n",
    "pip install opencv-python\n",
    "pip install controlnet-aux\n",
    "pip install torch torchvision torchaudio --index-url https://download.pytorch.org/whl/cu118\n",
    "\"\"\""
   ]
  },
  {
   "cell_type": "markdown",
   "id": "935b47a4",
   "metadata": {},
   "source": [
    "To use StableDiffusion on TPUs and GPUs for faster inference you can leverage JAX/Flax."
   ]
  },
  {
   "cell_type": "markdown",
   "id": "900cf9cd",
   "metadata": {},
   "source": [
    "kernel - myenv"
   ]
  },
  {
   "cell_type": "code",
   "execution_count": 1,
   "id": "3ebd066b",
   "metadata": {},
   "outputs": [],
   "source": [
    "#pip install jax jaxlib\n",
    "import jax"
   ]
  },
  {
   "cell_type": "code",
   "execution_count": 16,
   "id": "4486d868",
   "metadata": {},
   "outputs": [],
   "source": [
    "from diffusers import StableDiffusionPipeline, EulerDiscreteScheduler\n",
    "from PIL import Image\n",
    "import numpy as np\n",
    "import torch"
   ]
  },
  {
   "cell_type": "code",
   "execution_count": null,
   "id": "83a16f46",
   "metadata": {},
   "outputs": [],
   "source": [
    "#model = \"CompVis/stable-diffusion-v1-4\"\n"
   ]
  },
  {
   "cell_type": "code",
   "execution_count": 17,
   "id": "4a16635c",
   "metadata": {},
   "outputs": [],
   "source": [
    "model_id = \"runwayml/stable-diffusion-v1-5\""
   ]
  },
  {
   "cell_type": "code",
   "execution_count": 18,
   "id": "23779e2c",
   "metadata": {},
   "outputs": [],
   "source": [
    "device = \"cuda\" if torch.cuda.is_available() else \"cpu\""
   ]
  },
  {
   "cell_type": "code",
   "execution_count": 5,
   "id": "da85a35b",
   "metadata": {},
   "outputs": [
    {
     "data": {
      "application/vnd.jupyter.widget-view+json": {
       "model_id": "40089b215e5646d0b91a34443c93273c",
       "version_major": 2,
       "version_minor": 0
      },
      "text/plain": [
       "Loading pipeline components...:   0%|          | 0/7 [00:00<?, ?it/s]"
      ]
     },
     "metadata": {},
     "output_type": "display_data"
    }
   ],
   "source": [
    "pipe = StableDiffusionPipeline.from_pretrained(\n",
    "    model_id,\n",
    "    #revision=\"fp16\",\n",
    "    torch_dtype=torch.float16 if device ==\"cuda\" else torch.float32)"
   ]
  },
  {
   "cell_type": "code",
   "execution_count": 19,
   "id": "bd87304a",
   "metadata": {},
   "outputs": [],
   "source": [
    "pipe = pipe.to(device)"
   ]
  },
  {
   "cell_type": "code",
   "execution_count": 20,
   "id": "37770f46",
   "metadata": {},
   "outputs": [],
   "source": [
    "pipe.scheduler = EulerDiscreteScheduler.from_config(pipe.scheduler.config)\n",
    "pipe.enable_attention_slicing()"
   ]
  },
  {
   "cell_type": "code",
   "execution_count": null,
   "id": "cecfdb38",
   "metadata": {},
   "outputs": [],
   "source": [
    "prompts=[\"A magical forest illuminated by glowing mushrooms, with ethereal creatures floating among the trees, in the style of a Studio Ghibli movie.\",\n",
    "         \"A surreal cityscape where the buildings are made of clouds, with a glowing sunset sky and floating islands, painted in the style of Salvador Dalí.\",\n",
    "         \"A colossal ancient tree with neon-lit roots, growing through a futuristic metropolis, under a starry sky with a bright moon.\"\n",
    "         ]"
   ]
  },
  {
   "cell_type": "code",
   "execution_count": null,
   "id": "9fd66b98",
   "metadata": {},
   "outputs": [
    {
     "data": {
      "text/plain": [
       "'prompts = [\"a photo of an astronaut riding a horse on mars\",\\n          \"a painting of a squirrel eating a burger\",\\n          \"a low resolution photo of a cat\",\\n          \"a photo of a dog in the style of cubism\"]\\n'"
      ]
     },
     "execution_count": 11,
     "metadata": {},
     "output_type": "execute_result"
    }
   ],
   "source": [
    "\"\"\"\n",
    "prompts = [\"a photo of an astronaut riding a horse on mars\",\n",
    "          \"a painting of a squirrel eating a burger\",\n",
    "          \"a low resolution photo of a cat\",\n",
    "          \"a photo of a dog in the style of cubism\"]\n",
    "\"\"\""
   ]
  },
  {
   "cell_type": "code",
   "execution_count": 21,
   "id": "5c5cc9d8",
   "metadata": {},
   "outputs": [],
   "source": [
    "def generate_image(prompts,pipe):\n",
    "    images=[]\n",
    "    for prompt in prompts:\n",
    "        image = pipe(prompt, num_inference_steps=50, guidance_scale=7.5).images[0]\n",
    "        images.append(image)\n",
    "        \n",
    "    for image in images:\n",
    "        image.show()\n",
    "    return images\n",
    "\n",
    "    "
   ]
  },
  {
   "cell_type": "code",
   "execution_count": null,
   "id": "ad487171",
   "metadata": {},
   "outputs": [
    {
     "data": {
      "application/vnd.jupyter.widget-view+json": {
       "model_id": "803bbe24030d4b41b70e149bc70eb631",
       "version_major": 2,
       "version_minor": 0
      },
      "text/plain": [
       "  0%|          | 0/50 [00:00<?, ?it/s]"
      ]
     },
     "metadata": {},
     "output_type": "display_data"
    },
    {
     "data": {
      "application/vnd.jupyter.widget-view+json": {
       "model_id": "0aa745cbcd5f4ccd965d62dd7b48a962",
       "version_major": 2,
       "version_minor": 0
      },
      "text/plain": [
       "  0%|          | 0/50 [00:00<?, ?it/s]"
      ]
     },
     "metadata": {},
     "output_type": "display_data"
    },
    {
     "data": {
      "application/vnd.jupyter.widget-view+json": {
       "model_id": "3ef6eba2415347a0862030451f190074",
       "version_major": 2,
       "version_minor": 0
      },
      "text/plain": [
       "  0%|          | 0/50 [00:00<?, ?it/s]"
      ]
     },
     "metadata": {},
     "output_type": "display_data"
    },
    {
     "name": "stdout",
     "output_type": "stream",
     "text": [
      "Saved output_0.png\n",
      "Saved output_1.png\n",
      "Saved output_2.png\n"
     ]
    }
   ],
   "source": [
    "images = generate_image(prompts,pipe)\n",
    "# Save images\n",
    "for i, image in enumerate(images):\n",
    "    image.save(f\"output_{i}.png\")\n",
    "    print(f\"Saved output_{i}.png\")"
   ]
  },
  {
   "cell_type": "code",
   "execution_count": null,
   "id": "f9866ccf",
   "metadata": {},
   "outputs": [
    {
     "name": "stdout",
     "output_type": "stream",
     "text": [
      "Downloading from https://www.kaggle.com/api/v1/datasets/download/ipythonx/van-gogh-paintings?dataset_version_number=2...\n"
     ]
    },
    {
     "name": "stderr",
     "output_type": "stream",
     "text": [
      "100%|██████████| 485M/485M [00:31<00:00, 16.0MB/s] "
     ]
    },
    {
     "name": "stdout",
     "output_type": "stream",
     "text": [
      "Extracting files...\n"
     ]
    },
    {
     "name": "stderr",
     "output_type": "stream",
     "text": [
      "\n"
     ]
    },
    {
     "name": "stdout",
     "output_type": "stream",
     "text": [
      "Path to dataset files: C:\\Users\\anjan\\.cache\\kagglehub\\datasets\\ipythonx\\van-gogh-paintings\\versions\\2\n"
     ]
    }
   ],
   "source": [
    "import kagglehub\n",
    "\n",
    "# Download latest version\n",
    "path = kagglehub.dataset_download(\"ipythonx/van-gogh-paintings\")\n",
    "\n",
    "print(\"Path to dataset files:\", path)"
   ]
  },
  {
   "cell_type": "code",
   "execution_count": 22,
   "id": "79ecc024",
   "metadata": {},
   "outputs": [],
   "source": [
    "import os"
   ]
  },
  {
   "cell_type": "code",
   "execution_count": null,
   "id": "c4cbbe30",
   "metadata": {},
   "outputs": [],
   "source": [
    "dataset_path = \"C:\\van-gogh-paintings\""
   ]
  },
  {
   "cell_type": "code",
   "execution_count": 8,
   "id": "a441e5c8",
   "metadata": {},
   "outputs": [],
   "source": [
    "painting_path= r\"C:\\van-gogh-paintings\\versions\\2\\VincentVanGogh\""
   ]
  },
  {
   "cell_type": "code",
   "execution_count": 9,
   "id": "51082b99",
   "metadata": {},
   "outputs": [],
   "source": [
    "labels_path=r\"C:\\van-gogh-paintings\\versions\\2\\VanGoghPaintings.csv\""
   ]
  },
  {
   "cell_type": "code",
   "execution_count": 23,
   "id": "416c8026",
   "metadata": {},
   "outputs": [],
   "source": [
    "import pandas as pd"
   ]
  },
  {
   "cell_type": "code",
   "execution_count": 11,
   "id": "ace71ea5",
   "metadata": {},
   "outputs": [
    {
     "name": "stdout",
     "output_type": "stream",
     "text": [
      "                                          image_path class_name  labels\n",
      "0  /kaggle/input/van-gogh-paintings/Paris/Vase wi...      Paris       6\n",
      "1  /kaggle/input/van-gogh-paintings/Paris/Self-Po...      Paris       6\n",
      "2  /kaggle/input/van-gogh-paintings/Paris/Vase wi...      Paris       6\n",
      "3  /kaggle/input/van-gogh-paintings/Paris/Still L...      Paris       6\n",
      "4  /kaggle/input/van-gogh-paintings/Paris/Windmil...      Paris       6\n"
     ]
    }
   ],
   "source": [
    "l = pd.read_csv(r\"C:\\van-gogh-paintings\\versions\\2\\VanGoghPaintings.csv\")\n",
    "print(l.head())"
   ]
  },
  {
   "cell_type": "code",
   "execution_count": null,
   "id": "d6bfb170",
   "metadata": {},
   "outputs": [
    {
     "name": "stdout",
     "output_type": "stream",
     "text": [
      "['Arles', 'Auvers sur Oise', 'Drawings', 'Face', 'Nuenen', 'Paris', 'Saint Remy', 'Sketches in letters', 'Villege', 'Watercolors', 'Works of the young van Gogh']\n"
     ]
    }
   ],
   "source": [
    "print(os.listdir(painting_path)[:])"
   ]
  },
  {
   "cell_type": "code",
   "execution_count": null,
   "id": "78009769",
   "metadata": {},
   "outputs": [],
   "source": [
    "arles_path =  r\"C:\\van-gogh-paintings\\versions\\2\\VincentVanGogh\\Arles\""
   ]
  },
  {
   "cell_type": "code",
   "execution_count": 24,
   "id": "cd5d855a",
   "metadata": {},
   "outputs": [],
   "source": [
    "from PIL import Image"
   ]
  },
  {
   "cell_type": "code",
   "execution_count": null,
   "id": "544ef29b",
   "metadata": {},
   "outputs": [],
   "source": [
    "\"\"\" def show5(folder_path):\n",
    "    images=[f for f in os.listdir(folder_path) if f.endswith(('.jpg','.png'))]\n",
    "    if not images:\n",
    "        print(\"no images\")\n",
    "        return\n",
    "    images =images[:5]\n",
    "    for i,img_file in enumerate(images):\n",
    "        im = os.path.join(folder_path,img_file)\n",
    "        if os.path.exists(img_file):\n",
    "            img=Image.open(img_file)\n",
    "            img.show()\n",
    "            print({img_file})\n",
    "        else:\n",
    "            print(\"none\")\"\"\"\n",
    "    "
   ]
  },
  {
   "cell_type": "code",
   "execution_count": 25,
   "id": "40c9ed7c",
   "metadata": {},
   "outputs": [],
   "source": [
    "subfolders = [f for f in os.listdir(painting_path) if os.path.isdir(os.path.join(painting_path, f))]"
   ]
  },
  {
   "cell_type": "code",
   "execution_count": null,
   "id": "4fe7a67c",
   "metadata": {},
   "outputs": [
    {
     "name": "stdout",
     "output_type": "stream",
     "text": [
      "['Arles', 'Auvers sur Oise', 'Drawings', 'Face', 'Nuenen', 'Paris', 'Saint Remy', 'Sketches in letters', 'Villege', 'Watercolors', 'Works of the young van Gogh']\n"
     ]
    }
   ],
   "source": [
    "print(subfolders)"
   ]
  },
  {
   "cell_type": "code",
   "execution_count": null,
   "id": "4c5438d1",
   "metadata": {},
   "outputs": [],
   "source": [
    "subfolder_name=\"Arles\"\n",
    "subfolder_path=os.path.join(painting_path,subfolder_name)"
   ]
  },
  {
   "cell_type": "code",
   "execution_count": null,
   "id": "1ed968dd",
   "metadata": {},
   "outputs": [],
   "source": [
    "\"\"\"def show(folder_path):\n",
    "    \n",
    "    images=[f for f in os.listdir(folder_path) if f.endswith(('.jpg','.png'))]\n",
    "    if not images:\n",
    "        print(\"no images\")\n",
    "        return\n",
    "    images =images[:5]\n",
    "    for i,img_file in enumerate(images):\n",
    "        im = os.path.join(folder_path,img_file)\n",
    "        if os.path.exists(img_file):\n",
    "            img=Image.open(img_file)\n",
    "            img.show()\n",
    "            print({img_file})\n",
    "        else:\n",
    "            print(\"none\")\n",
    "    \"\"\""
   ]
  },
  {
   "cell_type": "code",
   "execution_count": null,
   "id": "77434644",
   "metadata": {},
   "outputs": [
    {
     "name": "stdout",
     "output_type": "stream",
     "text": [
      "none\n",
      "none\n",
      "none\n",
      "none\n",
      "none\n"
     ]
    }
   ],
   "source": [
    "show(subfolder_path)"
   ]
  },
  {
   "cell_type": "code",
   "execution_count": null,
   "id": "8eb5c27d",
   "metadata": {},
   "outputs": [
    {
     "name": "stdout",
     "output_type": "stream",
     "text": [
      "Subfolders: ['Arles', 'Auvers sur Oise', 'Drawings', 'Face', 'Nuenen', 'Paris', 'Saint Remy', 'Sketches in letters', 'Villege', 'Watercolors', 'Works of the young van Gogh']\n",
      "Displaying: A Field of Yellow Flowers.jpg\n",
      "Displaying: A L Arlesienne Madame Ginoux with Gloves and Umbre.jpg\n",
      "Displaying: A Lane in the Public Garden at Arles.jpg\n",
      "Displaying: A Lane near Arles.jpg\n",
      "Displaying: A Pair of Leather Clogs.jpg\n"
     ]
    }
   ],
   "source": [
    "import os\n",
    "from PIL import Image\n",
    "\n",
    "\n",
    "painting_path = r\"C:\\van-gogh-paintings\\versions\\2\\VincentVanGogh\"\n",
    "subfolders = [f for f in os.listdir(painting_path) if os.path.isdir(os.path.join(painting_path, f))]\n",
    "print(\"Subfolders:\", subfolders)\n",
    "subfolder_name = \"Arles\" \n",
    "subfolder_path = os.path.join(painting_path, subfolder_name)\n",
    "\n",
    "\n",
    "def show5_from_subfolder(folder_path):\n",
    "    images = [f for f in os.listdir(folder_path) if f.endswith(('.jpg', '.png'))]\n",
    "    if not images:\n",
    "        print(\"No images found in the folder.\")\n",
    "        return\n",
    "    images = images[:5]\n",
    "    \n",
    "    for i, image_file in enumerate(images):\n",
    "        img_path = os.path.join(folder_path, image_file)\n",
    "               \n",
    "        if os.path.exists(img_path):\n",
    "            img = Image.open(img_path)\n",
    "            img.show()\n",
    "            print(f\"Displaying: {image_file}\")\n",
    "        else:\n",
    "            print(f\"Image {image_file} not found at {img_path}\")\n",
    "\n",
    "show5_from_subfolder(subfolder_path)\n"
   ]
  },
  {
   "cell_type": "markdown",
   "id": "8566bfe2",
   "metadata": {},
   "source": [
    "train test splitting"
   ]
  },
  {
   "cell_type": "code",
   "execution_count": 15,
   "id": "3801a3ad",
   "metadata": {},
   "outputs": [],
   "source": [
    "import shutil\n",
    "import random\n",
    "import os"
   ]
  },
  {
   "cell_type": "code",
   "execution_count": 14,
   "id": "75c9d1c1",
   "metadata": {},
   "outputs": [],
   "source": [
    "painting_path=r\"C:\\van-gogh-paintings\\versions\\2\\VincentVanGogh\"\n",
    "train_path = r\"C:\\van-gogh-paintings\\versions\\2\\train\"\n",
    "test_path =r\"C:\\van-gogh-paintings\\versions\\2\\test\""
   ]
  },
  {
   "cell_type": "code",
   "execution_count": 15,
   "id": "10b6b3bb",
   "metadata": {},
   "outputs": [],
   "source": [
    "train_ratio =0.9\n",
    "test_ratio=0.1"
   ]
  },
  {
   "cell_type": "code",
   "execution_count": 16,
   "id": "6e712c2d",
   "metadata": {},
   "outputs": [],
   "source": [
    "os.makedirs(train_path,exist_ok=True)\n",
    "os.makedirs(test_path,exist_ok=True)"
   ]
  },
  {
   "cell_type": "code",
   "execution_count": 13,
   "id": "687550c4",
   "metadata": {},
   "outputs": [
    {
     "ename": "NameError",
     "evalue": "name 'subfolders' is not defined",
     "output_type": "error",
     "traceback": [
      "\u001b[31m---------------------------------------------------------------------------\u001b[39m",
      "\u001b[31mNameError\u001b[39m                                 Traceback (most recent call last)",
      "\u001b[36mCell\u001b[39m\u001b[36m \u001b[39m\u001b[32mIn[13]\u001b[39m\u001b[32m, line 1\u001b[39m\n\u001b[32m----> \u001b[39m\u001b[32m1\u001b[39m \u001b[38;5;28;01mfor\u001b[39;00m subfolder_name \u001b[38;5;129;01min\u001b[39;00m \u001b[43msubfolders\u001b[49m:\n\u001b[32m      2\u001b[39m     subfolder_path=os.path.join(painting_path,subfolder_name)\n\u001b[32m      3\u001b[39m     images = [f \u001b[38;5;28;01mfor\u001b[39;00m f \u001b[38;5;129;01min\u001b[39;00m os.listdir(subfolder_path) \u001b[38;5;28;01mif\u001b[39;00m f.endswith((\u001b[33m'\u001b[39m\u001b[33m.jpg\u001b[39m\u001b[33m'\u001b[39m, \u001b[33m'\u001b[39m\u001b[33m.png\u001b[39m\u001b[33m'\u001b[39m))]\n",
      "\u001b[31mNameError\u001b[39m: name 'subfolders' is not defined"
     ]
    }
   ],
   "source": [
    "for subfolder_name in subfolders:\n",
    "    subfolder_path=os.path.join(painting_path,subfolder_name)\n",
    "    images = [f for f in os.listdir(subfolder_path) if f.endswith(('.jpg', '.png'))]\n",
    "    random.shuffle(images)\n",
    "    \n",
    "    total_images=len(images)\n",
    "    train_count = int(total_images*train_ratio)\n",
    "    train_images = images[:train_count]\n",
    "    test_images = images[train_count:]\n",
    "    \n",
    "    os.makedirs(os.path.join(train_path,subfolder_name),exist_ok=True)\n",
    "    os.makedirs(os.path.join(test_path,subfolder_name),exist_ok=True)\n",
    "    \n",
    "    for img in train_images:\n",
    "        src = os.path.join(subfolder_path, img)\n",
    "        dst = os.path.join(train_path, subfolder_name, img)\n",
    "        shutil.copy2(src, dst)\n",
    "\n",
    "    for img in test_images:\n",
    "        src = os.path.join(subfolder_path, img)\n",
    "        dst = os.path.join(test_path, subfolder_name, img)\n",
    "        shutil.copy2(src, dst)\n",
    "\n",
    "print(\"Dataset split into training and testing sets successfully.\")\n",
    "    "
   ]
  },
  {
   "cell_type": "markdown",
   "id": "97ef8db0",
   "metadata": {},
   "source": [
    "Finetuning pretrained stable diffusion -"
   ]
  },
  {
   "cell_type": "markdown",
   "id": "4e0f3f3e",
   "metadata": {},
   "source": [
    "1. pretrained model = stablediffusion -model_id = \"runwayml/stable-diffusion-v1-5\"\n",
    "2. Fine tuning - adjust models weight\n",
    "3. Instance prompt\n",
    "4. training arguments "
   ]
  },
  {
   "cell_type": "markdown",
   "id": "ecbabb96",
   "metadata": {},
   "source": [
    "pip install transformers accelerate diffusers\n",
    "pip install -r https://raw.githubusercontent.com/huggingface/diffusers/main/examples/dreambooth/requirements.txt"
   ]
  },
  {
   "cell_type": "markdown",
   "id": "ce8c9454",
   "metadata": {},
   "source": [
    "accelerate config"
   ]
  },
  {
   "cell_type": "markdown",
   "id": "23f7b0fd",
   "metadata": {},
   "source": [
    "dataset preparation , annotate "
   ]
  },
  {
   "cell_type": "code",
   "execution_count": 26,
   "id": "07fabe19",
   "metadata": {},
   "outputs": [],
   "source": [
    "import os\n",
    "import csv"
   ]
  },
  {
   "cell_type": "code",
   "execution_count": 27,
   "id": "0074ba15",
   "metadata": {},
   "outputs": [],
   "source": [
    "dataset_path = r\"C:\\van-gogh-paintings\\versions\\2\\VincentVanGogh\"\n",
    "train_fold= r\"C:\\van-gogh-paintings\\versions\\2\\train\""
   ]
  },
  {
   "cell_type": "code",
   "execution_count": 30,
   "id": "1b4326b7",
   "metadata": {},
   "outputs": [],
   "source": [
    "output_csv = r\"C:\\van-gogh-paintings\\versions\\2\\train\\prompts.csv\"\n"
   ]
  },
  {
   "cell_type": "code",
   "execution_count": 31,
   "id": "310bce6b",
   "metadata": {},
   "outputs": [],
   "source": [
    "rows=[]\n",
    "for folder in os.listdir(train_fold):\n",
    "    folder_path = os.path.join(train_fold,folder)\n",
    "    if os.path.isdir(folder_path):\n",
    "        for filename in os.listdir(folder_path):\n",
    "            if filename.lower().endswith((\".jpg\",\".png\",\".jpeg\")):\n",
    "                image_path = f\"{folder}/{filename}\"\n",
    "                prompt = f\"a painting in the style of sks {folder}\"\n",
    "                rows.append([image_path,prompt])"
   ]
  },
  {
   "cell_type": "code",
   "execution_count": 32,
   "id": "e839e12e",
   "metadata": {},
   "outputs": [],
   "source": [
    "with open(output_csv,\"w\",newline=\"\") as f:\n",
    "    writer =csv.writer(f)\n",
    "    writer.writerow([\"image\",\"prompt\"])\n",
    "    writer.writerows(rows)"
   ]
  },
  {
   "cell_type": "code",
   "execution_count": 28,
   "id": "aafa02bb",
   "metadata": {},
   "outputs": [
    {
     "name": "stdout",
     "output_type": "stream",
     "text": [
      "CSV saved to C:\\van-gogh-paintings\\versions\\2\\VincentVanGogh\\prompts.csv with 2025 rows.\n"
     ]
    }
   ],
   "source": [
    "print(f\"CSV saved to {output_csv} with {len(rows)} rows.\")"
   ]
  },
  {
   "cell_type": "code",
   "execution_count": 30,
   "id": "6f913879",
   "metadata": {},
   "outputs": [
    {
     "name": "stdout",
     "output_type": "stream",
     "text": [
      "2.7.0+cu118\n",
      "True\n"
     ]
    }
   ],
   "source": [
    "import torch\n",
    "print(torch.__version__)\n",
    "print(torch.cuda.is_available())"
   ]
  },
  {
   "cell_type": "markdown",
   "id": "fcae3d99",
   "metadata": {},
   "source": [
    "pip install torch torchvision torchaudio --index-url https://download.pytorch.org/whl/cu121 or cu118\n",
    "\n",
    "pip install diffusers transformers accelerate\n",
    "pip install datasets ftfy\n",
    "pip install bitsandbytes\n"
   ]
  },
  {
   "cell_type": "markdown",
   "id": "bfb077d1",
   "metadata": {},
   "source": [
    "download dreambooth"
   ]
  },
  {
   "cell_type": "markdown",
   "id": "706567c3",
   "metadata": {},
   "source": [
    "\n",
    "cd diffusers\n",
    "pip install -e ."
   ]
  },
  {
   "cell_type": "markdown",
   "id": "f1e44700",
   "metadata": {},
   "source": [
    "cd examples/dreambooth\n"
   ]
  },
  {
   "cell_type": "markdown",
   "id": "eef104a5",
   "metadata": {},
   "source": [
    "https://git-scm.com/downloads/win"
   ]
  },
  {
   "cell_type": "code",
   "execution_count": null,
   "id": "83370eb1",
   "metadata": {},
   "outputs": [],
   "source": [
    "#pip install git+https://github.com/huggingface/diffusers.git\n"
   ]
  },
  {
   "cell_type": "code",
   "execution_count": null,
   "id": "a3f1e2f5",
   "metadata": {},
   "outputs": [],
   "source": [
    "#pip install -U peft"
   ]
  },
  {
   "cell_type": "markdown",
   "id": "2c73e0a1",
   "metadata": {},
   "source": [
    "accelerate launch train_dreambooth.py --pretrained_model_name_or_path=\"runwayml/stable-diffusion-v1-5\" --instance_data_dir=\"C:/van-gogh-paintings/versions/2/train\" --output_dir=\"./van-gogh-dreambooth\" --instance_prompt=\"a painting in the style of sks\" --resolution=512 --train_batch_size=1 --gradient_accumulation_steps=1 --learning_rate=5e-6 --lr_scheduler=\"constant\" --lr_warmup_steps=0 --max_train_steps=800 --use_8bit_adam --mixed_precision=\"fp16\" --train_text_encoder --gradient_checkpointing --push_to_hub=False\n"
   ]
  },
  {
   "cell_type": "markdown",
   "id": "0e66fbe5",
   "metadata": {},
   "source": [
    "TRAIN_LORA.PY"
   ]
  },
  {
   "cell_type": "markdown",
   "id": "d6c575d0",
   "metadata": {},
   "source": [
    "accelerate launch train_dreambooth.py --pretrained_model_name_or_path=\"runwayml/stable-diffusion-v1-5\" --instance_data_dir=\"C:/van-gogh-paintings/versions/2/train\" --output_dir=\".van-gohh-dreambooth\" --instance_prompt=\"a painting in the style of sks\" --resolution=512 --train_batch_size=1 --gradient_accumulation_steps=1 --learning_rate=5e-6 --lr_scheduler=\"constant\" --lr_warmup_steps=0 --max_train_steps=800 --use_8bit_adam --mixed_precision=\"fp16\" --train_text_encoder --gradient_checkpointing\n"
   ]
  },
  {
   "cell_type": "code",
   "execution_count": null,
   "id": "247836f1",
   "metadata": {},
   "outputs": [],
   "source": []
  },
  {
   "cell_type": "markdown",
   "id": "2004820e",
   "metadata": {},
   "source": [
    "from diffusers import StableDiffusionPipeline\n",
    "import torch\n",
    "\n",
    "pipe = StableDiffusionPipeline.from_pretrained(\"./van-gogh-dreambooth\", torch_dtype=torch.float16)\n",
    "pipe = pipe.to(\"cuda\")\n",
    "\n",
    "prompt = \"a painting in the style of sks Arles\"\n",
    "image = pipe(prompt).images[0]\n",
    "image.save(\"arles_generated.png\")\n"
   ]
  },
  {
   "cell_type": "markdown",
   "id": "5f645451",
   "metadata": {},
   "source": [
    "curl -o train_lora.py https://raw.githubusercontent.com/huggingface/diffusers/main/examples/lora/train_lora.py - not working \n"
   ]
  },
  {
   "cell_type": "markdown",
   "id": "5b34439c",
   "metadata": {},
   "source": [
    "curl -o train_lora.py https://gist.githubusercontent.com/thedarkzeno/58f320aeabf3d948802ecae107b36d2e/raw/train_lora.py  \n"
   ]
  },
  {
   "cell_type": "code",
   "execution_count": null,
   "id": "ea0cce8b",
   "metadata": {},
   "outputs": [],
   "source": [
    "accelerate launch train_lora.py --pretrained_model_name_or_path \"runwayml/stable-diffusion-v1-5\" --train_data_dir \"C:\\van-gogh-paintings\\train\" --caption_file \"C:\\van-gogh-paintings\\train\\prompts.csv\" --output_dir \"C:\\van-gogh-paintings\\model_output\" --resolution 512 --train_batch_size 1 --max_train_steps 800 --lr 5e-6 --mixed_precision \"fp16\"\n"
   ]
  },
  {
   "cell_type": "code",
   "execution_count": null,
   "id": "881c97c2",
   "metadata": {},
   "outputs": [],
   "source": []
  },
  {
   "cell_type": "code",
   "execution_count": null,
   "id": "f34583e5",
   "metadata": {},
   "outputs": [],
   "source": []
  },
  {
   "cell_type": "code",
   "execution_count": null,
   "id": "f9bcaa10",
   "metadata": {},
   "outputs": [],
   "source": []
  },
  {
   "cell_type": "code",
   "execution_count": null,
   "id": "2420bbac",
   "metadata": {},
   "outputs": [],
   "source": []
  }
 ],
 "metadata": {
  "kernelspec": {
   "display_name": "myenv",
   "language": "python",
   "name": "python3"
  },
  "language_info": {
   "codemirror_mode": {
    "name": "ipython",
    "version": 3
   },
   "file_extension": ".py",
   "mimetype": "text/x-python",
   "name": "python",
   "nbconvert_exporter": "python",
   "pygments_lexer": "ipython3",
   "version": "3.12.4"
  }
 },
 "nbformat": 4,
 "nbformat_minor": 5
}
